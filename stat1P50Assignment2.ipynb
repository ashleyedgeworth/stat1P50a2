{
 "cells": [
  {
   "cell_type": "code",
   "execution_count": 1,
   "id": "d5c2d052-b600-4576-bbf2-12c2ba24e072",
   "metadata": {},
   "outputs": [
    {
     "name": "stdin",
     "output_type": "stream",
     "text": [
      "type your FBS result 8\n"
     ]
    },
    {
     "name": "stdout",
     "output_type": "stream",
     "text": [
      "normal\n"
     ]
    }
   ],
   "source": [
    "#question 1\n",
    "FBS = float(input ('type your FBS result'))\n",
    "if FBS <= 99:\n",
    "     print ('normal')\n",
    "else:\n",
    "     print (\"not normal\")"
   ]
  },
  {
   "cell_type": "code",
   "execution_count": 2,
   "id": "e06eeb07-6121-45a8-a086-3e151cdcb5e8",
   "metadata": {},
   "outputs": [
    {
     "name": "stdout",
     "output_type": "stream",
     "text": [
      "sucess!\n",
      "sucess!\n",
      "sucess!\n",
      "sucess!\n",
      "sucess!\n",
      "sucess!\n",
      "sucess!\n",
      "sucess!\n",
      "sucess!\n",
      "sucess!\n",
      "sucess!\n",
      "sucess!\n",
      "sucess!\n",
      "sucess!\n",
      "sucess!\n",
      "sucess!\n",
      "sucess!\n",
      "sucess!\n",
      "sucess!\n",
      "sucess!\n",
      "sucess!\n",
      "sucess!\n",
      "sucess!\n",
      "sucess!\n",
      "sucess!\n",
      "sucess!\n",
      "sucess!\n",
      "sucess!\n",
      "sucess!\n",
      "sucess!\n",
      "sucess!\n",
      "sucess!\n",
      "sucess!\n",
      "sucess!\n",
      "sucess!\n",
      "sucess!\n",
      "sucess!\n",
      "sucess!\n",
      "sucess!\n",
      "sucess!\n",
      "sucess!\n",
      "sucess!\n",
      "sucess!\n",
      "sucess!\n",
      "sucess!\n",
      "sucess!\n",
      "sucess!\n",
      "sucess!\n",
      "sucess!\n",
      "sucess!\n",
      "sucess!\n",
      "sucess!\n",
      "sucess!\n",
      "sucess!\n",
      "sucess!\n",
      "sucess!\n",
      "sucess!\n",
      "sucess!\n",
      "sucess!\n",
      "sucess!\n",
      "sucess!\n",
      "sucess!\n",
      "sucess!\n",
      "sucess!\n",
      "sucess!\n",
      "sucess!\n",
      "sucess!\n",
      "sucess!\n",
      "sucess!\n",
      "sucess!\n",
      "sucess!\n",
      "sucess!\n",
      "sucess!\n",
      "sucess!\n",
      "sucess!\n",
      "sucess!\n",
      "sucess!\n",
      "sucess!\n",
      "sucess!\n",
      "sucess!\n",
      "sucess!\n",
      "sucess!\n",
      "sucess!\n",
      "sucess!\n",
      "sucess!\n",
      "sucess!\n",
      "sucess!\n",
      "sucess!\n",
      "sucess!\n",
      "sucess!\n",
      "sucess!\n",
      "sucess!\n",
      "sucess!\n",
      "sucess!\n",
      "sucess!\n",
      "sucess!\n",
      "sucess!\n",
      "sucess!\n",
      "sucess!\n",
      "sucess!\n",
      "sucess!\n",
      "sucess!\n",
      "sucess!\n",
      "sucess!\n",
      "sucess!\n",
      "sucess!\n",
      "sucess!\n",
      "sucess!\n",
      "sucess!\n",
      "sucess!\n",
      "sucess!\n",
      "sucess!\n",
      "sucess!\n",
      "sucess!\n",
      "sucess!\n",
      "sucess!\n",
      "sucess!\n",
      "sucess!\n",
      "sucess!\n",
      "sucess!\n",
      "sucess!\n",
      "sucess!\n",
      "sucess!\n",
      "sucess!\n",
      "sucess!\n",
      "sucess!\n",
      "sucess!\n",
      "sucess!\n",
      "sucess!\n",
      "sucess!\n",
      "sucess!\n",
      "sucess!\n",
      "sucess!\n",
      "sucess!\n",
      "sucess!\n",
      "sucess!\n",
      "sucess!\n",
      "sucess!\n",
      "sucess!\n",
      "sucess!\n",
      "sucess!\n",
      "sucess!\n",
      "sucess!\n",
      "sucess!\n",
      "sucess!\n",
      "sucess!\n",
      "sucess!\n",
      "sucess!\n",
      "sucess!\n",
      "sucess!\n",
      "sucess!\n",
      "sucess!\n",
      "sucess!\n",
      "sucess!\n",
      "sucess!\n",
      "sucess!\n",
      "sucess!\n",
      "sucess!\n",
      "sucess!\n",
      "sucess!\n",
      "sucess!\n",
      "sucess!\n",
      "sucess!\n",
      "sucess!\n",
      "sucess!\n",
      "sucess!\n",
      "sucess!\n",
      "sucess!\n",
      "sucess!\n",
      "sucess!\n",
      "sucess!\n",
      "sucess!\n",
      "sucess!\n",
      "sucess!\n",
      "sucess!\n",
      "sucess!\n",
      "sucess!\n",
      "sucess!\n",
      "sucess!\n",
      "sucess!\n",
      "sucess!\n",
      "sucess!\n",
      "sucess!\n",
      "sucess!\n",
      "sucess!\n",
      "sucess!\n",
      "sucess!\n",
      "sucess!\n",
      "sucess!\n",
      "sucess!\n",
      "sucess!\n",
      "sucess!\n",
      "sucess!\n",
      "sucess!\n",
      "sucess!\n",
      "sucess!\n",
      "sucess!\n",
      "sucess!\n",
      "sucess!\n",
      "sucess!\n",
      "sucess!\n",
      "sucess!\n",
      "sucess!\n",
      "sucess!\n",
      "sucess!\n",
      "sucess!\n",
      "sucess!\n",
      "sucess!\n",
      "sucess!\n",
      "sucess!\n",
      "sucess!\n",
      "sucess!\n",
      "sucess!\n",
      "sucess!\n",
      "sucess!\n",
      "sucess!\n",
      "sucess!\n",
      "sucess!\n",
      "sucess!\n",
      "sucess!\n",
      "sucess!\n",
      "sucess!\n",
      "sucess!\n",
      "sucess!\n",
      "sucess!\n",
      "sucess!\n",
      "sucess!\n",
      "sucess!\n",
      "sucess!\n",
      "sucess!\n",
      "sucess!\n",
      "sucess!\n",
      "sucess!\n",
      "sucess!\n",
      "sucess!\n",
      "sucess!\n",
      "sucess!\n",
      "sucess!\n",
      "sucess!\n",
      "sucess!\n",
      "sucess!\n",
      "sucess!\n",
      "sucess!\n",
      "sucess!\n",
      "sucess!\n",
      "sucess!\n",
      "sucess!\n",
      "sucess!\n",
      "sucess!\n",
      "sucess!\n",
      "sucess!\n",
      "sucess!\n",
      "sucess!\n",
      "sucess!\n",
      "sucess!\n",
      "sucess!\n",
      "sucess!\n",
      "sucess!\n",
      "sucess!\n",
      "sucess!\n",
      "sucess!\n",
      "sucess!\n",
      "sucess!\n",
      "sucess!\n",
      "sucess!\n",
      "sucess!\n",
      "sucess!\n",
      "sucess!\n",
      "sucess!\n",
      "sucess!\n",
      "sucess!\n",
      "sucess!\n",
      "sucess!\n",
      "sucess!\n",
      "sucess!\n",
      "sucess!\n",
      "sucess!\n",
      "sucess!\n"
     ]
    }
   ],
   "source": [
    "#question 2\n",
    "from random import sample\n",
    "\n",
    "for i in range (0,100):\n",
    "    \n",
    "    a = sample (['1', '2', '3'], 1)\n",
    "    b = sample (['1', '2', '3'], 1)\n",
    "    \n",
    "    file_a = open (file = 'file1.txt', mode = 'a')\n",
    "    file_b = open (file = 'file2.txt', mode = 'a')\n",
    "    \n",
    "    file_a.write ('\\n'+a[0])\n",
    "    file_b.write ('\\n'+b[0])\n",
    "    \n",
    "    file_a.close\n",
    "    file_b.close\n",
    "    \n",
    "file1 = open(file = 'file1.txt', mode = 'r')\n",
    "file2 = open(file = 'file2.txt', mode = 'r')\n",
    "file1content = file1.readlines()\n",
    "file2content = file2.readlines()\n",
    "for i in range (0, len(file1content)):\n",
    "    if file1content[i] == file2content[i]:\n",
    "        print (\"sucess!\")"
   ]
  },
  {
   "cell_type": "code",
   "execution_count": 3,
   "id": "a01598e8-8962-4d7c-aab5-76d535fb2a5a",
   "metadata": {},
   "outputs": [
    {
     "name": "stdout",
     "output_type": "stream",
     "text": [
      "2850\n"
     ]
    }
   ],
   "source": [
    "#question 3\n",
    "#count only those lines that include q\n",
    "file = open ('sample-file.txt', 'r')\n",
    "\n",
    "letters = [\"q\"]\n",
    "count = 0\n",
    "lines = file.readlines()\n",
    "for line in lines:\n",
    "    if any (letter in line for letter in letters):\n",
    "        count+=1\n",
    "print (count)"
   ]
  },
  {
   "cell_type": "code",
   "execution_count": 5,
   "id": "07d65bcb-84c6-42b6-a380-5327bb489f05",
   "metadata": {},
   "outputs": [
    {
     "data": {
      "image/png": "[encoded data removed]",
      "text/plain": [
       "<Figure size 432x288 with 1 Axes>"
      ]
     },
     "metadata": {
      "needs_background": "light"
     },
     "output_type": "display_data"
    }
   ],
   "source": [
    "#question 4\n",
    "import pandas as pd \n",
    "import matplotlib.pyplot as plt\n",
    "\n",
    "data = pd.read_csv ('student.csv')\n",
    "\n",
    "data = data [['internet', 'grade']]\n",
    "\n",
    "data2 = data.groupby('internet').mean().reset_index()\n",
    "\n",
    "internet = data2[\"internet\"]\n",
    "grade = data2[\"grade\"]\n",
    "plt.bar (internet, grade, color = 'maroon', width = 0.5)\n",
    "plt.xlabel (\"internet\")\n",
    "plt.ylabel (\"grade\")\n",
    "plt.show()"
   ]
  },
  {
   "cell_type": "code",
   "execution_count": 7,
   "id": "3a0acb3a-fb1d-47bc-9668-bb16245b077d",
   "metadata": {},
   "outputs": [
    {
     "data": {
      "image/png": "[encoded data removed]",
      "text/plain": [
       "<Figure size 432x288 with 1 Axes>"
      ]
     },
     "metadata": {
      "needs_background": "light"
     },
     "output_type": "display_data"
    }
   ],
   "source": [
    "#question 5\n",
    "import pandas as pd \n",
    "import matplotlib.pyplot as plt\n",
    "\n",
    "data = pd.read_csv ('student.csv')\n",
    "\n",
    "data = data [['studytime', 'grade']]\n",
    "\n",
    "data2 = data.groupby('studytime').mean().reset_index()\n",
    "\n",
    "studytime = data2 [\"studytime\"]\n",
    "grade = data2 [\"grade\"]\n",
    "plt.plot (studytime, grade)\n",
    "plt.xlabel (\"study time\")\n",
    "plt.ylabel (\"grade\")\n",
    "plt.show()"
   ]
  },
  {
   "cell_type": "code",
   "execution_count": 8,
   "id": "f5ee9ca1-482b-4238-8f08-05832a3e5784",
   "metadata": {},
   "outputs": [
    {
     "data": {
      "image/png": "[encoded data removed]",
      "text/plain": [
       "<Figure size 432x288 with 1 Axes>"
      ]
     },
     "metadata": {
      "needs_background": "light"
     },
     "output_type": "display_data"
    },
    {
     "data": {
      "image/png": "[encoded data removed]",
      "text/plain": [
       "<Figure size 432x288 with 1 Axes>"
      ]
     },
     "metadata": {
      "needs_background": "light"
     },
     "output_type": "display_data"
    }
   ],
   "source": [
    "#question 6\n",
    "import pandas as pd \n",
    "import matplotlib.pyplot as plt\n",
    "\n",
    "data = pd.read_csv ('crime.csv')\n",
    "\n",
    "data2 = data[['PctPopUnderPov', 'ViolentCrimesPerPop']]\n",
    "\n",
    "pctpopunderpov = data2 [\"PctPopUnderPov\"]\n",
    "violentcrimesperpop = data2 [\"ViolentCrimesPerPop\"]\n",
    "\n",
    "import numpy as np\n",
    "\n",
    "crime_list = np.array(data2['ViolentCrimesPerPop']).reshape(-1,1)\n",
    "from sklearn.preprocessing import StandardScaler\n",
    "scaler = StandardScaler()\n",
    "scaledCrime_list = scaler.fit_transform(crime_list)\n",
    "\n",
    "poverty_list = np.array(data2['PctPopUnderPov']).reshape(-1,1)\n",
    "scaledPoverty_list = scaler.fit_transform(poverty_list)\n",
    "\n",
    "plt.scatter(poverty_list, crime_list)\n",
    "plt.xlabel(\"Percentage of People Under the Poverty List\")\n",
    "plt.ylabel(\"Ratio of Violent Crimes to Population\")\n",
    "plt.show()\n",
    "plt.scatter (scaledPoverty_list, scaledCrime_list)\n",
    "plt.xlabel(\"Percentage of People Under the Poverty List\")\n",
    "plt.ylabel(\"Ratio of Violent Crimes to Population\")\n",
    "plt.show()"
   ]
  },
  {
   "cell_type": "code",
   "execution_count": 9,
   "id": "6be56204-db9d-4376-86df-633ef5fa376e",
   "metadata": {},
   "outputs": [
    {
     "name": "stdout",
     "output_type": "stream",
     "text": [
      "2\n"
     ]
    }
   ],
   "source": [
    "#question 7\n",
    "import requests\n",
    "\n",
    "x = requests.get('https://en.wikipedia.org/wiki/Data_science')\n",
    "\n",
    "from bs4 import BeautifulSoup\n",
    "soup = BeautifulSoup (x.content, 'html.parser')\n",
    "values = soup.find_all(\"p\")\n",
    "counter = 0\n",
    "#only doing lowercase learning\n",
    "#extra line needed if including uppercase\n",
    "for val in values:\n",
    "    if \"learning\" in val.text:\n",
    "        counter = counter + 1\n",
    "print (counter)"
   ]
  },
  {
   "cell_type": "code",
   "execution_count": 10,
   "id": "1b62367c-3eef-4965-b49b-b78bbfaa254e",
   "metadata": {},
   "outputs": [
    {
     "data": {
      "image/png": "[encoded data removed]",
      "text/plain": [
       "<Figure size 432x288 with 1 Axes>"
      ]
     },
     "metadata": {
      "needs_background": "light"
     },
     "output_type": "display_data"
    },
    {
     "data": {
      "image/png": "[encoded data removed]",
      "text/plain": [
       "<Figure size 432x288 with 1 Axes>"
      ]
     },
     "metadata": {
      "needs_background": "light"
     },
     "output_type": "display_data"
    }
   ],
   "source": [
    "#question 8\n",
    "import pandas as pd \n",
    "import matplotlib.pyplot as plt\n",
    "\n",
    "data = pd.read_csv ('student.csv')\n",
    "data = data [['studytime', 'grade']]\n",
    "# print(data)\n",
    "studytimeUnder3 = data[data['studytime']<3]\n",
    "plt.bar (studytimeUnder3 [\"studytime\"], studytimeUnder3 [\"grade\"], color = 'maroon', width = 0.5)\n",
    "plt.xlabel(\"study time under 3 hours\")\n",
    "plt.ylabel (\"grade\")\n",
    "plt.show()\n",
    "\n",
    "studytimeOver3 = data[data['studytime']>=3]\n",
    "plt.bar (studytimeOver3 [\"studytime\"], studytimeOver3 [\"grade\"], color = 'maroon', width = 0.5)\n",
    "plt.xlabel (\"study time over 3 hours\")\n",
    "plt.ylabel (\"grade\")\n",
    "plt.show()"
   ]
  },
  {
   "cell_type": "code",
   "execution_count": 11,
   "id": "3906f84f-538b-412c-9233-b8e5d9dbdf02",
   "metadata": {},
   "outputs": [
    {
     "data": {
      "text/plain": [
       "PctPopUnderPov         0.615753\n",
       "PctUnemployed          0.548039\n",
       "PolicPerPop            0.149319\n",
       "Pcthomeless            0.426614\n",
       "PctBSorMore           -0.296239\n",
       "ViolentCrimesPerPop    1.000000\n",
       "Name: ViolentCrimesPerPop, dtype: float64"
      ]
     },
     "execution_count": 11,
     "metadata": {},
     "output_type": "execute_result"
    }
   ],
   "source": [
    "#question 9\n",
    "import pandas as pd\n",
    "data = pd.read_csv ('crime.csv')\n",
    "data.corr()[\"ViolentCrimesPerPop\"]"
   ]
  },
  {
   "cell_type": "code",
   "execution_count": 14,
   "id": "a5f91c14-1fed-4bf6-88de-0c301b2074f4",
   "metadata": {},
   "outputs": [],
   "source": [
    "#question 10\n",
    "import numpy as np\n",
    "def function(x,y):\n",
    "    average = sum(x)/len(x)\n",
    "    standarddeviation = np.std(x)\n",
    "    # print(average)\n",
    "    # print(standarddeviation)\n",
    "    outlier = [average- (3*standarddeviation), average+(3*standarddeviation)]\n",
    "    if y >= outlier[0] and y<= outlier[1]:\n",
    "        print(\"not outlier\")\n",
    "    else:\n",
    "        print(\"outlier\")"
   ]
  },
  {
   "cell_type": "code",
   "execution_count": 15,
   "id": "428a4d79-f04f-4db1-a3e4-99d51fc6473e",
   "metadata": {},
   "outputs": [
    {
     "name": "stdout",
     "output_type": "stream",
     "text": [
      "not outlier\n"
     ]
    }
   ],
   "source": [
    "function ([1,5,7,8], 8)"
   ]
  },
  {
   "cell_type": "code",
   "execution_count": 16,
   "id": "792e08d6-b64c-4de0-b381-9dd76fc6232c",
   "metadata": {},
   "outputs": [
    {
     "name": "stdout",
     "output_type": "stream",
     "text": [
      "outlier\n"
     ]
    }
   ],
   "source": [
    "function ([1,5,7,8], 100)"
   ]
  }
 ],
 "metadata": {
  "kernelspec": {
   "display_name": "Python 3 (ipykernel)",
   "language": "python",
   "name": "python3"
  },
  "language_info": {
   "codemirror_mode": {
    "name": "ipython",
    "version": 3
   },
   "file_extension": ".py",
   "mimetype": "text/x-python",
   "name": "python",
   "nbconvert_exporter": "python",
   "pygments_lexer": "ipython3",
   "version": "3.9.12"
  }
 },
 "nbformat": 4,
 "nbformat_minor": 5
}
